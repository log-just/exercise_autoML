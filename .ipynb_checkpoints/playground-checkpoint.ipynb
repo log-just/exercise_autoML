{
 "cells": [
  {
   "cell_type": "code",
   "execution_count": 1,
   "metadata": {},
   "outputs": [
    {
     "name": "stdout",
     "output_type": "stream",
     "text": [
      "<class 'pandas.core.frame.DataFrame'>\n",
      "<class 'pandas.core.series.Series'>\n",
      "<class 'pandas.core.frame.DataFrame'>\n"
     ]
    }
   ],
   "source": [
    "import pandas as pd\n",
    "# x_train as pandas.DataFrame, y_train as pandas.Series\n",
    "x_train = pd.read_csv('./titanic/train.csv')\n",
    "print(type(x_train)) # pandas.DataFrame\n",
    "y_train = x_train.pop('Survived')\n",
    "print(type(y_train)) # pandas.Series\n",
    "# You can also use pandas.DataFrame for y_train.\n",
    "y_train = pd.DataFrame(y_train)\n",
    "print(type(y_train)) # pandas.DataFrame"
   ]
  },
  {
   "cell_type": "code",
   "execution_count": 3,
   "metadata": {},
   "outputs": [
    {
     "name": "stdout",
     "output_type": "stream",
     "text": [
      "Train for 23 steps, validate for 6 steps\n",
      "Epoch 1/1000\n",
      "23/23 [==============================] - ETA: 9s - loss: nan - accuracy: 0.468 - 1s 30ms/step - loss: nan - accuracy: 0.6073 - val_loss: nan - val_accuracy: 0.6461\n",
      "Epoch 2/1000\n",
      "23/23 [==============================] - ETA: 0s - loss: nan - accuracy: 0.500 - ETA: 0s - loss: nan - accuracy: 0.610 - 0s 4ms/step - loss: nan - accuracy: 0.6087 - val_loss: nan - val_accuracy: 0.6461\n",
      "Epoch 3/1000\n",
      "23/23 [==============================] - ETA: 0s - loss: nan - accuracy: 0.500 - 0s 3ms/step - loss: nan - accuracy: 0.6087 - val_loss: nan - val_accuracy: 0.6461\n",
      "Epoch 4/1000\n",
      "23/23 [==============================] - ETA: 0s - loss: nan - accuracy: 0.500 - 0s 3ms/step - loss: nan - accuracy: 0.6087 - val_loss: nan - val_accuracy: 0.6461\n",
      "Epoch 5/1000\n",
      "23/23 [==============================] - ETA: 0s - loss: nan - accuracy: 0.500 - 0s 3ms/step - loss: nan - accuracy: 0.6087 - val_loss: nan - val_accuracy: 0.6461\n",
      "Epoch 6/1000\n",
      "23/23 [==============================] - ETA: 0s - loss: nan - accuracy: 0.500 - 0s 3ms/step - loss: nan - accuracy: 0.6087 - val_loss: nan - val_accuracy: 0.6461\n",
      "Epoch 7/1000\n",
      "23/23 [==============================] - ETA: 0s - loss: nan - accuracy: 0.500 - 0s 3ms/step - loss: nan - accuracy: 0.6087 - val_loss: nan - val_accuracy: 0.6461\n",
      "Epoch 8/1000\n",
      "23/23 [==============================] - ETA: 0s - loss: nan - accuracy: 0.500 - 0s 3ms/step - loss: nan - accuracy: 0.6087 - val_loss: nan - val_accuracy: 0.6461\n",
      "Epoch 9/1000\n",
      "23/23 [==============================] - ETA: 0s - loss: nan - accuracy: 0.500 - 0s 3ms/step - loss: nan - accuracy: 0.6087 - val_loss: nan - val_accuracy: 0.6461\n",
      "Epoch 10/1000\n",
      "23/23 [==============================] - ETA: 0s - loss: nan - accuracy: 0.500 - 0s 4ms/step - loss: nan - accuracy: 0.6087 - val_loss: nan - val_accuracy: 0.6461\n"
     ]
    },
    {
     "data": {
      "text/html": [
       "<span style=\"color:#4527A0\"><h1 style=\"font-size:18px\">Trial complete</h1></span>"
      ],
      "text/plain": [
       "<IPython.core.display.HTML object>"
      ]
     },
     "metadata": {},
     "output_type": "display_data"
    },
    {
     "data": {
      "text/html": [
       "<span style=\"color:#4527A0\"><h1 style=\"font-size:18px\">Trial summary</h1></span>"
      ],
      "text/plain": [
       "<IPython.core.display.HTML object>"
      ]
     },
     "metadata": {},
     "output_type": "display_data"
    },
    {
     "data": {
      "text/html": [
       "<span style=\"color:cyan\"> |-Trial ID: ae11be5ceb6b111f7d1269c12c6d1363</span>"
      ],
      "text/plain": [
       "<IPython.core.display.HTML object>"
      ]
     },
     "metadata": {},
     "output_type": "display_data"
    },
    {
     "data": {
      "text/html": [
       "<span style=\"color:cyan\"> |-Score: 0.6460674405097961</span>"
      ],
      "text/plain": [
       "<IPython.core.display.HTML object>"
      ]
     },
     "metadata": {},
     "output_type": "display_data"
    },
    {
     "data": {
      "text/html": [
       "<span style=\"color:cyan\"> |-Best step: 0</span>"
      ],
      "text/plain": [
       "<IPython.core.display.HTML object>"
      ]
     },
     "metadata": {},
     "output_type": "display_data"
    },
    {
     "data": {
      "text/html": [
       "<span style=\"color:#7E57C2\"><h2 style=\"font-size:16px\">Hyperparameters:</h2></span>"
      ],
      "text/plain": [
       "<IPython.core.display.HTML object>"
      ]
     },
     "metadata": {},
     "output_type": "display_data"
    },
    {
     "data": {
      "text/html": [
       "<span style=\"color:cyan\"> |-classification_head_1/dropout_rate: 0</span>"
      ],
      "text/plain": [
       "<IPython.core.display.HTML object>"
      ]
     },
     "metadata": {},
     "output_type": "display_data"
    },
    {
     "data": {
      "text/html": [
       "<span style=\"color:blue\"> |-optimizer: adam</span>"
      ],
      "text/plain": [
       "<IPython.core.display.HTML object>"
      ]
     },
     "metadata": {},
     "output_type": "display_data"
    },
    {
     "data": {
      "text/html": [
       "<span style=\"color:cyan\"> |-structured_data_block_1/dense_block_1/dropout_rate: 0</span>"
      ],
      "text/plain": [
       "<IPython.core.display.HTML object>"
      ]
     },
     "metadata": {},
     "output_type": "display_data"
    },
    {
     "data": {
      "text/html": [
       "<span style=\"color:blue\"> |-structured_data_block_1/dense_block_1/num_layers: 2</span>"
      ],
      "text/plain": [
       "<IPython.core.display.HTML object>"
      ]
     },
     "metadata": {},
     "output_type": "display_data"
    },
    {
     "data": {
      "text/html": [
       "<span style=\"color:cyan\"> |-structured_data_block_1/dense_block_1/units_0: 32</span>"
      ],
      "text/plain": [
       "<IPython.core.display.HTML object>"
      ]
     },
     "metadata": {},
     "output_type": "display_data"
    },
    {
     "data": {
      "text/html": [
       "<span style=\"color:blue\"> |-structured_data_block_1/dense_block_1/units_1: 32</span>"
      ],
      "text/plain": [
       "<IPython.core.display.HTML object>"
      ]
     },
     "metadata": {},
     "output_type": "display_data"
    },
    {
     "data": {
      "text/html": [
       "<span style=\"color:cyan\"> |-structured_data_block_1/dense_block_1/use_batchnorm: False</span>"
      ],
      "text/plain": [
       "<IPython.core.display.HTML object>"
      ]
     },
     "metadata": {},
     "output_type": "display_data"
    },
    {
     "name": "stdout",
     "output_type": "stream",
     "text": [
      "INFO:tensorflow:Oracle triggered exit\n",
      "Train for 29 steps, validate for 6 steps\n",
      "Epoch 1/1000\n",
      "29/29 [==============================] - ETA: 11s - loss: nan - accuracy: 0.46 - ETA: 0s - loss: nan - accuracy: 0.6140 - 1s 21ms/step - loss: nan - accuracy: 0.6150 - val_loss: nan - val_accuracy: 0.6461\n",
      "Epoch 2/1000\n",
      "29/29 [==============================] - ETA: 0s - loss: nan - accuracy: 0.500 - ETA: 0s - loss: nan - accuracy: 0.614 - 0s 3ms/step - loss: nan - accuracy: 0.6162 - val_loss: nan - val_accuracy: 0.6461\n",
      "Epoch 3/1000\n",
      "29/29 [==============================] - ETA: 0s - loss: nan - accuracy: 0.500 - ETA: 0s - loss: nan - accuracy: 0.608 - 0s 4ms/step - loss: nan - accuracy: 0.6162 - val_loss: nan - val_accuracy: 0.6461\n",
      "Epoch 4/1000\n",
      "29/29 [==============================] - ETA: 0s - loss: nan - accuracy: 0.500 - ETA: 0s - loss: nan - accuracy: 0.610 - 0s 4ms/step - loss: nan - accuracy: 0.6162 - val_loss: nan - val_accuracy: 0.6461\n",
      "Epoch 5/1000\n",
      "29/29 [==============================] - ETA: 0s - loss: nan - accuracy: 0.500 - ETA: 0s - loss: nan - accuracy: 0.609 - 0s 4ms/step - loss: nan - accuracy: 0.6162 - val_loss: nan - val_accuracy: 0.6461\n",
      "Epoch 6/1000\n",
      "29/29 [==============================] - ETA: 0s - loss: nan - accuracy: 0.500 - ETA: 0s - loss: nan - accuracy: 0.609 - 0s 4ms/step - loss: nan - accuracy: 0.6162 - val_loss: nan - val_accuracy: 0.6461\n",
      "Epoch 7/1000\n",
      "29/29 [==============================] - ETA: 0s - loss: nan - accuracy: 0.500 - ETA: 0s - loss: nan - accuracy: 0.610 - 0s 4ms/step - loss: nan - accuracy: 0.6162 - val_loss: nan - val_accuracy: 0.6461\n",
      "Epoch 8/1000\n",
      "29/29 [==============================] - ETA: 0s - loss: nan - accuracy: 0.500 - ETA: 0s - loss: nan - accuracy: 0.610 - 0s 4ms/step - loss: nan - accuracy: 0.6162 - val_loss: nan - val_accuracy: 0.6461\n",
      "Epoch 9/1000\n",
      "29/29 [==============================] - ETA: 0s - loss: nan - accuracy: 0.500 - ETA: 0s - loss: nan - accuracy: 0.612 - 0s 4ms/step - loss: nan - accuracy: 0.6162 - val_loss: nan - val_accuracy: 0.6461\n",
      "Epoch 10/1000\n",
      "29/29 [==============================] - ETA: 0s - loss: nan - accuracy: 0.500 - ETA: 0s - loss: nan - accuracy: 0.609 - 0s 4ms/step - loss: nan - accuracy: 0.6162 - val_loss: nan - val_accuracy: 0.6461\n"
     ]
    }
   ],
   "source": [
    "import autokeras as ak\n",
    "clf = ak.StructuredDataClassifier(max_trials=1)\n",
    "clf.fit(x_train, y_train)"
   ]
  },
  {
   "cell_type": "code",
   "execution_count": 4,
   "metadata": {},
   "outputs": [
    {
     "ename": "NotFittedError",
     "evalue": "This StructuredDataClassifier instance is not fitted yet. Call 'fit' with appropriate arguments before using this estimator.",
     "output_type": "error",
     "traceback": [
      "\u001b[0;31m---------------------------------------------------------------------------\u001b[0m",
      "\u001b[0;31mNotFittedError\u001b[0m                            Traceback (most recent call last)",
      "\u001b[0;32m<ipython-input-4-4d96770d2d7d>\u001b[0m in \u001b[0;36m<module>\u001b[0;34m\u001b[0m\n\u001b[1;32m      1\u001b[0m \u001b[0;32mfrom\u001b[0m \u001b[0msklearn\u001b[0m\u001b[0;34m.\u001b[0m\u001b[0mtree\u001b[0m \u001b[0;32mimport\u001b[0m \u001b[0mexport_graphviz\u001b[0m\u001b[0;34m\u001b[0m\u001b[0;34m\u001b[0m\u001b[0m\n\u001b[1;32m      2\u001b[0m \u001b[0mfeatures\u001b[0m \u001b[0;34m=\u001b[0m \u001b[0;34m[\u001b[0m\u001b[0;34m'Pclass'\u001b[0m\u001b[0;34m,\u001b[0m\u001b[0;34m'Age'\u001b[0m\u001b[0;34m,\u001b[0m\u001b[0;34m'Sex_binary'\u001b[0m\u001b[0;34m]\u001b[0m\u001b[0;34m\u001b[0m\u001b[0;34m\u001b[0m\u001b[0m\n\u001b[0;32m----> 3\u001b[0;31m \u001b[0mexport_graphviz\u001b[0m\u001b[0;34m(\u001b[0m\u001b[0mclf\u001b[0m\u001b[0;34m,\u001b[0m\u001b[0mout_file\u001b[0m\u001b[0;34m=\u001b[0m\u001b[0;34m'titanic_tree.dot'\u001b[0m\u001b[0;34m,\u001b[0m\u001b[0mfeature_names\u001b[0m\u001b[0;34m=\u001b[0m\u001b[0mfeatures\u001b[0m\u001b[0;34m,\u001b[0m\u001b[0mrounded\u001b[0m\u001b[0;34m=\u001b[0m\u001b[0;32mTrue\u001b[0m\u001b[0;34m,\u001b[0m\u001b[0mfilled\u001b[0m\u001b[0;34m=\u001b[0m\u001b[0;32mTrue\u001b[0m\u001b[0;34m,\u001b[0m\u001b[0mclass_names\u001b[0m\u001b[0;34m=\u001b[0m\u001b[0;34m[\u001b[0m\u001b[0;34m'Survived'\u001b[0m\u001b[0;34m,\u001b[0m\u001b[0;34m'Did not Survive'\u001b[0m\u001b[0;34m]\u001b[0m\u001b[0;34m)\u001b[0m\u001b[0;34m\u001b[0m\u001b[0;34m\u001b[0m\u001b[0m\n\u001b[0m",
      "\u001b[0;32m~/dev/automl/venv/lib/python3.7/site-packages/sklearn/tree/_export.py\u001b[0m in \u001b[0;36mexport_graphviz\u001b[0;34m(decision_tree, out_file, max_depth, feature_names, class_names, label, filled, leaves_parallel, impurity, node_ids, proportion, rotate, rounded, special_characters, precision)\u001b[0m\n\u001b[1;32m    743\u001b[0m     \"\"\"\n\u001b[1;32m    744\u001b[0m \u001b[0;34m\u001b[0m\u001b[0m\n\u001b[0;32m--> 745\u001b[0;31m     \u001b[0mcheck_is_fitted\u001b[0m\u001b[0;34m(\u001b[0m\u001b[0mdecision_tree\u001b[0m\u001b[0;34m)\u001b[0m\u001b[0;34m\u001b[0m\u001b[0;34m\u001b[0m\u001b[0m\n\u001b[0m\u001b[1;32m    746\u001b[0m     \u001b[0mown_file\u001b[0m \u001b[0;34m=\u001b[0m \u001b[0;32mFalse\u001b[0m\u001b[0;34m\u001b[0m\u001b[0;34m\u001b[0m\u001b[0m\n\u001b[1;32m    747\u001b[0m     \u001b[0mreturn_string\u001b[0m \u001b[0;34m=\u001b[0m \u001b[0;32mFalse\u001b[0m\u001b[0;34m\u001b[0m\u001b[0;34m\u001b[0m\u001b[0m\n",
      "\u001b[0;32m~/dev/automl/venv/lib/python3.7/site-packages/sklearn/utils/validation.py\u001b[0m in \u001b[0;36mcheck_is_fitted\u001b[0;34m(estimator, attributes, msg, all_or_any)\u001b[0m\n\u001b[1;32m    965\u001b[0m \u001b[0;34m\u001b[0m\u001b[0m\n\u001b[1;32m    966\u001b[0m     \u001b[0;32mif\u001b[0m \u001b[0;32mnot\u001b[0m \u001b[0mattrs\u001b[0m\u001b[0;34m:\u001b[0m\u001b[0;34m\u001b[0m\u001b[0;34m\u001b[0m\u001b[0m\n\u001b[0;32m--> 967\u001b[0;31m         \u001b[0;32mraise\u001b[0m \u001b[0mNotFittedError\u001b[0m\u001b[0;34m(\u001b[0m\u001b[0mmsg\u001b[0m \u001b[0;34m%\u001b[0m \u001b[0;34m{\u001b[0m\u001b[0;34m'name'\u001b[0m\u001b[0;34m:\u001b[0m \u001b[0mtype\u001b[0m\u001b[0;34m(\u001b[0m\u001b[0mestimator\u001b[0m\u001b[0;34m)\u001b[0m\u001b[0;34m.\u001b[0m\u001b[0m__name__\u001b[0m\u001b[0;34m}\u001b[0m\u001b[0;34m)\u001b[0m\u001b[0;34m\u001b[0m\u001b[0;34m\u001b[0m\u001b[0m\n\u001b[0m\u001b[1;32m    968\u001b[0m \u001b[0;34m\u001b[0m\u001b[0m\n\u001b[1;32m    969\u001b[0m \u001b[0;34m\u001b[0m\u001b[0m\n",
      "\u001b[0;31mNotFittedError\u001b[0m: This StructuredDataClassifier instance is not fitted yet. Call 'fit' with appropriate arguments before using this estimator."
     ]
    }
   ],
   "source": [
    "from sklearn.tree import export_graphviz\n",
    "features = ['Pclass','Age','Sex_binary']\n",
    "export_graphviz(clf,out_file='titanic_tree.dot',feature_names=features,rounded=True,filled=True,class_names=['Survived','Did not Survive'])"
   ]
  },
  {
   "cell_type": "code",
   "execution_count": null,
   "metadata": {},
   "outputs": [],
   "source": []
  },
  {
   "cell_type": "code",
   "execution_count": null,
   "metadata": {},
   "outputs": [],
   "source": []
  }
 ],
 "metadata": {
  "file_extension": ".py",
  "kernelspec": {
   "display_name": "Python 3.7.5 64-bit ('venv': virtualenv)",
   "language": "python",
   "name": "python37564bitvenvvirtualenvb0a517c4d1b542bf8fe57b3974d75173"
  },
  "language_info": {
   "codemirror_mode": {
    "name": "ipython",
    "version": 3
   },
   "file_extension": ".py",
   "mimetype": "text/x-python",
   "name": "python",
   "nbconvert_exporter": "python",
   "pygments_lexer": "ipython3",
   "version": "3.7.5"
  },
  "mimetype": "text/x-python",
  "name": "python",
  "npconvert_exporter": "python",
  "pygments_lexer": "ipython3",
  "version": 3
 },
 "nbformat": 4,
 "nbformat_minor": 2
}
