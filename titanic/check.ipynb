{
 "nbformat": 4,
 "nbformat_minor": 2,
 "metadata": {
  "language_info": {
   "name": "python",
   "codemirror_mode": {
    "name": "ipython",
    "version": 3
   },
   "version": "3.7.5-final"
  },
  "orig_nbformat": 2,
  "file_extension": ".py",
  "mimetype": "text/x-python",
  "name": "python",
  "npconvert_exporter": "python",
  "pygments_lexer": "ipython3",
  "version": 3,
  "kernelspec": {
   "name": "python37564bitvenvvirtualenvb0a517c4d1b542bf8fe57b3974d75173",
   "display_name": "Python 3.7.5 64-bit ('venv': virtualenv)"
  }
 },
 "cells": [
  {
   "cell_type": "code",
   "execution_count": 3,
   "metadata": {},
   "outputs": [],
   "source": [
    "import autokeras as ak\n",
    "import pandas as pd\n",
    "import numpy as np\n",
    "df_train = pd.read_csv('./titanic/train.csv')\n",
    "df_test = pd.read_csv(\"./titanic/test.csv\")\n",
    "\n",
    "train_test_data = [df_train, df_test]  # combining train and test dataset\n",
    "\n",
    "title_mapping = {\"Mr\": \"Mr\", \"Miss\": \"Miss\", \"Mrs\": \"Mrs\",\n",
    "                 \"Master\": \"Boy\", \"Dr\": \"Gentleman\", \"Rev\": \"Gentleman\", \"Col\": \"unknown\", \"Major\": \"Gentleman\", \"Mlle\": \"unknown\", \"Countess\": \"Lady\",\n",
    "                 \"Ms\": \"Miss\", \"Lady\": \"Lady\", \"Jonkheer\": \"unknown\", \"Don\": \"Gentleman\", \"Dona\": \"Lady\", \"Mme\": \"unknown\", \"Capt\": \"Gentleman\", \"Sir\": \"Gentleman\"}\n",
    "# features_drop = ['PassengerId', 'Ticket', 'Name', 'Title', 'Cabin', 'Family']\n",
    "features_drop = ['PassengerId', 'Ticket', 'Name', 'Family']\n",
    "\n",
    "# create ageset\n",
    "concatset = (pd.concat([df_train, df_test]))\n",
    "concatset['Title'] = concatset['Name'].str.extract(\n",
    "    ' ([A-Za-z]+)\\.', expand=False)\n",
    "concatset['Title'] = concatset['Title'].map(title_mapping)\n",
    "ageset = concatset.groupby(['Title'])['Age'].mean()\n",
    "fareset = concatset.groupby(['Pclass'])['Fare'].mean()\n",
    "\n",
    "for dataset in train_test_data:\n",
    "    # mapping\n",
    "    dataset['Title'] = dataset['Name'].str.extract(\n",
    "        ' ([A-Za-z]+)\\.', expand=False)\n",
    "    dataset[\"Cabin\"] = dataset[\"Cabin\"].str[:1]\n",
    "\n",
    "    # fillna\n",
    "    # dataset[\"Age\"].fillna(dataset.groupby(\n",
    "    #     \"Title\")[\"Age\"].transform(\"median\"), inplace=True)\n",
    "    dataset['Embarked'] = dataset['Embarked'].fillna('unknown')\n",
    "    dataset['Cabin'] = dataset['Cabin'].fillna('unknown')\n",
    "    dataset[\"Fare\"].fillna(dataset[\"Pclass\"].map(fareset), inplace=True)\n",
    "    # dataset[\"Fare\"].fillna(dataset.groupby(\"Pclass\")[\n",
    "    #                        \"Fare\"].transform(\"median\"), inplace=True)\n",
    "\n",
    "    dataset[\"Age\"].fillna(dataset[\"Title\"].map(ageset), inplace=True)\n",
    "    # add\n",
    "    dataset[\"Family\"] = dataset[\"SibSp\"] + dataset[\"Parch\"]\n",
    "    dataset['Alone'] = np.where(dataset['Family'] > 0, 'n', 'y')\n",
    "\n",
    "    # delete\n",
    "    dataset.drop(features_drop, axis=1, inplace=True)"
   ]
  },
  {
   "cell_type": "code",
   "execution_count": 2,
   "metadata": {},
   "outputs": [
    {
     "name": "stdout",
     "output_type": "stream",
     "text": "<class 'pandas.core.frame.DataFrame'>\nRangeIndex: 891 entries, 0 to 890\nData columns (total 11 columns):\n #   Column    Non-Null Count  Dtype  \n---  ------    --------------  -----  \n 0   Survived  891 non-null    int64  \n 1   Pclass    891 non-null    int64  \n 2   Sex       891 non-null    object \n 3   Age       886 non-null    float64\n 4   SibSp     891 non-null    int64  \n 5   Parch     891 non-null    int64  \n 6   Fare      891 non-null    float64\n 7   Cabin     891 non-null    object \n 8   Embarked  891 non-null    object \n 9   Title     891 non-null    object \n 10  Alone     891 non-null    object \ndtypes: float64(2), int64(4), object(5)\nmemory usage: 76.7+ KB\n"
    }
   ],
   "source": [
    "df_train.info()"
   ]
  },
  {
   "cell_type": "code",
   "execution_count": null,
   "metadata": {},
   "outputs": [],
   "source": []
  }
 ]
}